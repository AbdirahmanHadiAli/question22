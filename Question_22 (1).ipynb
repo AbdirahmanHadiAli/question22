{
 "cells": [
  {
   "cell_type": "markdown",
   "id": "c2c4a290",
   "metadata": {},
   "source": [
    "In a jupyter notebook solve the following question using both python and SQL. Please upload the notebook to GitHub and provide the link submission box below.\n",
    "+---------------+---------+\n",
    "| Column Name   | Type    |\n",
    "+---------------+---------+\n",
    "| id            | int     |\n",
    "| recordDate    | date    |\n",
    "| temperature   | int     |\n",
    "+---------------+---------+\n",
    "id is the column with unique values for this table.\n",
    "This table contains information about the temperature on a certain day.\n"
   ]
  },
  {
   "cell_type": "code",
   "execution_count": 1,
   "id": "6bb22d41",
   "metadata": {},
   "outputs": [],
   "source": [
    "import sqlite3"
   ]
  },
  {
   "cell_type": "code",
   "execution_count": 2,
   "id": "abf83398",
   "metadata": {},
   "outputs": [],
   "source": [
    "conn = sqlite3.connect('weather.db')\n",
    "cur = conn.cursor()"
   ]
  },
  {
   "cell_type": "code",
   "execution_count": 3,
   "id": "c0232e69",
   "metadata": {},
   "outputs": [
    {
     "data": {
      "text/plain": [
       "<sqlite3.Cursor at 0x17a95b51cc0>"
      ]
     },
     "execution_count": 3,
     "metadata": {},
     "output_type": "execute_result"
    }
   ],
   "source": [
    "cur.execute('''\n",
    "CREATE TABLE IF NOT EXISTS Weather (\n",
    "    id INTEGER PRIMARY KEY,\n",
    "    recordDate DATE,\n",
    "    temperature INTEGER\n",
    ")\n",
    "''')"
   ]
  },
  {
   "cell_type": "code",
   "execution_count": 4,
   "id": "9c8054b2",
   "metadata": {},
   "outputs": [],
   "source": [
    "data = [\n",
    "    (1, '2016-02-19', 10),\n",
    "    (2, '2016-02-20', 15),\n",
    "    (3, '2016-02-21', 20),\n",
    "    (4, '2016-02-22', 25)\n",
    "]"
   ]
  },
  {
   "cell_type": "code",
   "execution_count": 5,
   "id": "75f23cf7",
   "metadata": {},
   "outputs": [],
   "source": [
    "cur.executemany('INSERT INTO Weather (id, recordDate, temperature) VALUES (?, ?, ?)', data)\n",
    "conn.commit()\n"
   ]
  },
  {
   "cell_type": "code",
   "execution_count": 6,
   "id": "1754de5d",
   "metadata": {},
   "outputs": [],
   "source": [
    "query = '''\n",
    "SELECT w1.id \n",
    "FROM Weather w1\n",
    "JOIN Weather w2 \n",
    "ON w1.recordDate = DATE(w2.recordDate, '+1 day')\n",
    "WHERE w1.temperature > w2.temperature\n",
    "'''"
   ]
  },
  {
   "cell_type": "code",
   "execution_count": 7,
   "id": "43c6eee1",
   "metadata": {},
   "outputs": [],
   "source": [
    "cur.execute(query)\n",
    "results = cur.fetchall()\n"
   ]
  },
  {
   "cell_type": "code",
   "execution_count": 8,
   "id": "f24ed396",
   "metadata": {},
   "outputs": [
    {
     "name": "stdout",
     "output_type": "stream",
     "text": [
      "IDs with higher temperatures than the previous day:\n",
      "(2,)\n",
      "(3,)\n",
      "(4,)\n"
     ]
    }
   ],
   "source": [
    "print(\"IDs with higher temperatures than the previous day:\")\n",
    "for row in results:\n",
    "    print(row)\n"
   ]
  },
  {
   "cell_type": "code",
   "execution_count": null,
   "id": "2ed30917",
   "metadata": {},
   "outputs": [],
   "source": []
  }
 ],
 "metadata": {
  "kernelspec": {
   "display_name": "Python 3 (ipykernel)",
   "language": "python",
   "name": "python3"
  },
  "language_info": {
   "codemirror_mode": {
    "name": "ipython",
    "version": 3
   },
   "file_extension": ".py",
   "mimetype": "text/x-python",
   "name": "python",
   "nbconvert_exporter": "python",
   "pygments_lexer": "ipython3",
   "version": "3.11.5"
  }
 },
 "nbformat": 4,
 "nbformat_minor": 5
}
